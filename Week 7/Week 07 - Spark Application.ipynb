{
 "cells": [
  {
   "cell_type": "markdown",
   "metadata": {
    "application/vnd.databricks.v1+cell": {
     "cellMetadata": {},
     "inputWidgets": {},
     "nuid": "133b7200-856d-4dde-8de7-07ed3a90718c",
     "showTitle": false,
     "tableResultSettingsMap": {},
     "title": ""
    }
   },
   "source": [
    "### Uploading Files into Pyspark"
   ]
  },
  {
   "cell_type": "code",
   "execution_count": 0,
   "metadata": {
    "application/vnd.databricks.v1+cell": {
     "cellMetadata": {
      "byteLimit": 2048000,
      "rowLimit": 10000
     },
     "inputWidgets": {},
     "nuid": "48786203-3428-4419-bdda-1a98c6a2db2a",
     "showTitle": false,
     "tableResultSettingsMap": {},
     "title": ""
    }
   },
   "outputs": [
    {
     "output_type": "stream",
     "name": "stdout",
     "output_type": "stream",
     "text": [
      "+-----------+--------------------+-------------+--------------------+---------------------+-------------------+---------------------+-----------------------------------------------+-----------------------------------------------+--------------+---------------+------------------+-----------------+------------------+---------------------+----------------------+--------------------+----------+------------+-------------------------------+-----------------+--------------------+---------------------------------------------------------+-----------------------------------------------------------+-------------------------------------------------------------+--------------------------------------------------------------+----------------------------------------------------------------+------------------------------+--------------------------------------------------------+------------------------+\n|Change_Type|Physician_Profile_ID|Physician_NPI|Physician_First_Name|Physician_Middle_Name|Physician_Last_Name|Physician_Name_Suffix|Recipient_Primary_Business_Street_Address_Line1|Recipient_Primary_Business_Street_Address_Line2|Recipient_City|Recipient_State|Recipient_Zip_Code|Recipient_Country|Recipient_Province|Recipient_Postal_Code|Physician_Primary_Type| Physician_Specialty| Record_ID|Program_Year|Total_Amount_Invested_USDollars|Value_of_Interest|   Terms_of_Interest|Submitting_Applicable_Manufacturer_or_Applicable_GPO_Name|Applicable_Manufacturer_or_Applicable_GPO_Making_Payment_ID|Applicable_Manufacturer_or_Applicable_GPO_Making_Payment_Name|Applicable_Manufacturer_or_Applicable_GPO_Making_Payment_State|Applicable_Manufacturer_or_Applicable_GPO_Making_Payment_Country|Dispute_Status_for_Publication|Interest_Held_by_Physician_or_an_Immediate_Family_Member|Payment_Publication_Date|\n+-----------+--------------------+-------------+--------------------+---------------------+-------------------+---------------------+-----------------------------------------------+-----------------------------------------------+--------------+---------------+------------------+-----------------+------------------+---------------------+----------------------+--------------------+----------+------------+-------------------------------+-----------------+--------------------+---------------------------------------------------------+-----------------------------------------------------------+-------------------------------------------------------------+--------------------------------------------------------------+----------------------------------------------------------------+------------------------------+--------------------------------------------------------+------------------------+\n|  UNCHANGED|              329721|   1275588246|               Frank|                    P|            Cammisa|                   JR|                                  523 E 72ND ST|                                           null|      New York|             NY|             10021|    United States|              null|                 null|        Medical Doctor|Allopathic & Oste...|1060444261|        2023|                            0.0|          59000.0|        COMMON STOCK|                                               4WEB, INC.|                                               100000010575|                                                   4WEB, INC.|                                                            TX|                                                   United States|                            No|                                    Physician Covered...|              2025-01-30|\n|  UNCHANGED|             4213213|   1952690257|              Edward|                 null|            Shields|                 null|                                  1400 MERCY DR|                                           null|      Muskegon|             MI|             49444|    United States|              null|                 null|        Medical Doctor|Allopathic & Oste...|1060337995|        2023|                            0.0|          3089.19|               Stock|                                     Catalyst OrthoSci...|                                               100000151617|                                         Catalyst OrthoSci...|                                                            FL|                                                   United States|                            No|                                    Physician Covered...|              2025-01-30|\n|  UNCHANGED|              170314|   1750495099|                ERIK|                 null|            THYSSEN|                 null|                           11525 Olde Cabin ...|                                           null|      ST LOUIS|             MO|             63141|    United States|              null|                 null|        Medical Doctor|Allopathic & Oste...|1050730773|        2023|                        5709.14|          5709.14|        Common Stock|                                           GastroGPO, LLC|                                               100000961861|                                               GastroGPO, LLC|                                                            OH|                                                   United States|                            No|                                    Physician Covered...|              2025-01-30|\n|  UNCHANGED|              151386|   1336161561|               Cindy|                 null|              Tobin|                 null|                           40 Crossways Park...|                                      Suite 101|      Woodbury|             NY|             11797|    United States|              null|                 null|        Medical Doctor|Allopathic & Oste...| 967468037|        2023|                            0.0|              1.0|Physician holds a...|                                     Unified Women's H...|                                               100000226819|                                         Unified Women's H...|                                                            FL|                                                   United States|                            No|                                    Physician Covered...|              2025-01-30|\n|  UNCHANGED|              130749|   1871710756|              Nikhil|                 null|             Thakur|                 null|                                575 Turnpike St|                                       Suite 11| North Andover|             MA|             01845|    United States|              null|                 null|        Medical Doctor|Allopathic & Oste...|1060625253|        2023|                         7017.4|           7017.4|Restricted Stock ...|                                     Expanding Innovat...|                                               100000971874|                                         Expanding Innovat...|                                                            CA|                                                   United States|                            No|                                    Physician Covered...|              2025-01-30|\n+-----------+--------------------+-------------+--------------------+---------------------+-------------------+---------------------+-----------------------------------------------+-----------------------------------------------+--------------+---------------+------------------+-----------------+------------------+---------------------+----------------------+--------------------+----------+------------+-------------------------------+-----------------+--------------------+---------------------------------------------------------+-----------------------------------------------------------+-------------------------------------------------------------+--------------------------------------------------------------+----------------------------------------------------------------+------------------------------+--------------------------------------------------------+------------------------+\nonly showing top 5 rows\n\n+------------------------------+----------------------------+-----------------------------------------+-----------------------------------------+---------------------+------------------------------------+-------------------------------------+-----------------------------------+--------------------------------+----------------------------------------------+-----------------------------------------------+---------------------------------------------+------------------------------------------+----------------------------------------+----------------------------------------+------------------------------+-------------------------------+---------------------------------+--------------------------------------+---------------------------------------+-------------------------------------------+----------------------------------------+----------------------------------------+----------------------------------------+----------------------------------------+----------------------------------------+----------------------------------------+----------------------------------------------+----------------------------------------------+----------------------------------------------+----------------------------------------------+----------------------------------------------+\n|Covered_Recipient_Profile_Type|Covered_Recipient_Profile_ID|Associated_Covered_Recipient_Profile_ID_1|Associated_Covered_Recipient_Profile_ID_2|Covered_Recipient_NPI|Covered_Recipient_Profile_First_Name|Covered_Recipient_Profile_Middle_Name|Covered_Recipient_Profile_Last_Name|Covered_Recipient_Profile_Suffix|Covered_Recipient_Profile_Alternate_First_Name|Covered_Recipient_Profile_Alternate_Middle_Name|Covered_Recipient_Profile_Alternate_Last_Name|Covered_Recipient_Profile_Alternate_Suffix|Covered_Recipient_Profile_Address_Line_1|Covered_Recipient_Profile_Address_Line_2|Covered_Recipient_Profile_City|Covered_Recipient_Profile_State|Covered_Recipient_Profile_Zipcode|Covered_Recipient_Profile_Country_Name|Covered_Recipient_Profile_Province_Name|Covered_Recipient_Profile_Primary_Specialty|Covered_Recipient_Profile_OPS_Taxonomy_1|Covered_Recipient_Profile_OPS_Taxonomy_2|Covered_Recipient_Profile_OPS_Taxonomy_3|Covered_Recipient_Profile_OPS_Taxonomy_4|Covered_Recipient_Profile_OPS_Taxonomy_5|Covered_Recipient_Profile_OPS_Taxonomy_6|Covered_Recipient_Profile_License_State_Code_1|Covered_Recipient_Profile_License_State_Code_2|Covered_Recipient_Profile_License_State_Code_3|Covered_Recipient_Profile_License_State_Code_4|Covered_Recipient_Profile_License_State_Code_5|\n+------------------------------+----------------------------+-----------------------------------------+-----------------------------------------+---------------------+------------------------------------+-------------------------------------+-----------------------------------+--------------------------------+----------------------------------------------+-----------------------------------------------+---------------------------------------------+------------------------------------------+----------------------------------------+----------------------------------------+------------------------------+-------------------------------+---------------------------------+--------------------------------------+---------------------------------------+-------------------------------------------+----------------------------------------+----------------------------------------+----------------------------------------+----------------------------------------+----------------------------------------+----------------------------------------+----------------------------------------------+----------------------------------------------+----------------------------------------------+----------------------------------------------+----------------------------------------------+\n|          Covered Recipient...|                           1|                                     null|                                     null|           1003020595|                               BARRY|                                    D|                            SIMMONS|                            null|                                        BARRON|                                          DAVID|                                      SIMMONS|                                      null|                    847 SOUTH MILLEDG...|                                    null|                        ATHENS|                             GA|                       30605-1331|                         UNITED STATES|                                   null|                       Dental Providers|...|                              1223G0001X|                                    null|                                    null|                                    null|                                    null|                                    null|                                            GA|                                          null|                                          null|                                          null|                                          null|\n|          Covered Recipient...|                           2|                                     null|                                     null|           1003022823|                             LINDSEY|                                    R|                           SCHUSTER|                            null|                                       LINDSEY|                                              R|                                       GROBER|                                      null|                             15 HEIDI LN|                                    null|                   MOUNT SINAI|                             NY|                       11766-1428|                         UNITED STATES|                                   null|                       Allopathic & Oste...|                              207P00000X|                                    null|                                    null|                                    null|                                    null|                                    null|                                            NY|                                            PA|                                          null|                                          null|                                          null|\n|          Covered Recipient...|                           3|                                     null|                                     null|           1003023359|                              JUSTIN|                                    H|                            RACKLEY|                            null|                                        JUSTIN|                                         HAMWAY|                                      RACKLEY|                                      null|                     1001 SAM PERRY BLVD|                                    null|                FREDERICKSBURG|                             VA|                       22401-4453|                         UNITED STATES|                                   null|                       Allopathic & Oste...|                              207L00000X|                                    null|                                    null|                                    null|                                    null|                                    null|                                            VA|                                            OH|                                          null|                                          null|                                          null|\n|          Covered Recipient...|                           4|                                     null|                                     null|           1003024811|                                LISA|                                    L|                            HAMAKER|                            null|                                          null|                                           null|                                         null|                                      null|                    100 MARKET ST STE...|                                    null|                  COLLEGEVILLE|                             PA|                       19426-4927|                         UNITED STATES|                                   null|                       Allopathic & Oste...|                              207RE0101X|                                    null|                                    null|                                    null|                                    null|                                    null|                                            PA|                                          null|                                          null|                                          null|                                          null|\n|          Covered Recipient...|                           5|                                     null|                                     null|           1003025875|                             PATRICK|                                    E|                              DAVOL|                            null|                                       PATRICK|                                           ERIN|                                        DAVOL|                                      null|                    1698 E MCANDREWS ...|                                    null|                       MEDFORD|                             OR|                       97504-5590|                         UNITED STATES|                                   null|                       Allopathic & Oste...|                              208800000X|                                    null|                                    null|                                    null|                                    null|                                    null|                                            OR|                                            IN|                                          null|                                          null|                                          null|\n+------------------------------+----------------------------+-----------------------------------------+-----------------------------------------+---------------------+------------------------------------+-------------------------------------+-----------------------------------+--------------------------------+----------------------------------------------+-----------------------------------------------+---------------------------------------------+------------------------------------------+----------------------------------------+----------------------------------------+------------------------------+-------------------------------+---------------------------------+--------------------------------------+---------------------------------------+-------------------------------------------+----------------------------------------+----------------------------------------+----------------------------------------+----------------------------------------+----------------------------------------+----------------------------------------+----------------------------------------------+----------------------------------------------+----------------------------------------------+----------------------------------------------+----------------------------------------------+\nonly showing top 5 rows\n\nroot\n |-- Change_Type: string (nullable = true)\n |-- Physician_Profile_ID: string (nullable = true)\n |-- Physician_NPI: string (nullable = true)\n |-- Physician_First_Name: string (nullable = true)\n |-- Physician_Middle_Name: string (nullable = true)\n |-- Physician_Last_Name: string (nullable = true)\n |-- Physician_Name_Suffix: string (nullable = true)\n |-- Recipient_Primary_Business_Street_Address_Line1: string (nullable = true)\n |-- Recipient_Primary_Business_Street_Address_Line2: string (nullable = true)\n |-- Recipient_City: string (nullable = true)\n |-- Recipient_State: string (nullable = true)\n |-- Recipient_Zip_Code: string (nullable = true)\n |-- Recipient_Country: string (nullable = true)\n |-- Recipient_Province: string (nullable = true)\n |-- Recipient_Postal_Code: string (nullable = true)\n |-- Physician_Primary_Type: string (nullable = true)\n |-- Physician_Specialty: string (nullable = true)\n |-- Record_ID: integer (nullable = true)\n |-- Program_Year: integer (nullable = true)\n |-- Total_Amount_Invested_USDollars: double (nullable = true)\n |-- Value_of_Interest: double (nullable = true)\n |-- Terms_of_Interest: string (nullable = true)\n |-- Submitting_Applicable_Manufacturer_or_Applicable_GPO_Name: string (nullable = true)\n |-- Applicable_Manufacturer_or_Applicable_GPO_Making_Payment_ID: long (nullable = true)\n |-- Applicable_Manufacturer_or_Applicable_GPO_Making_Payment_Name: string (nullable = true)\n |-- Applicable_Manufacturer_or_Applicable_GPO_Making_Payment_State: string (nullable = true)\n |-- Applicable_Manufacturer_or_Applicable_GPO_Making_Payment_Country: string (nullable = true)\n |-- Dispute_Status_for_Publication: string (nullable = true)\n |-- Interest_Held_by_Physician_or_an_Immediate_Family_Member: string (nullable = true)\n |-- Payment_Publication_Date: date (nullable = true)\n\nroot\n |-- Covered_Recipient_Profile_Type: string (nullable = true)\n |-- Covered_Recipient_Profile_ID: integer (nullable = true)\n |-- Associated_Covered_Recipient_Profile_ID_1: string (nullable = true)\n |-- Associated_Covered_Recipient_Profile_ID_2: string (nullable = true)\n |-- Covered_Recipient_NPI: integer (nullable = true)\n |-- Covered_Recipient_Profile_First_Name: string (nullable = true)\n |-- Covered_Recipient_Profile_Middle_Name: string (nullable = true)\n |-- Covered_Recipient_Profile_Last_Name: string (nullable = true)\n |-- Covered_Recipient_Profile_Suffix: string (nullable = true)\n |-- Covered_Recipient_Profile_Alternate_First_Name: string (nullable = true)\n |-- Covered_Recipient_Profile_Alternate_Middle_Name: string (nullable = true)\n |-- Covered_Recipient_Profile_Alternate_Last_Name: string (nullable = true)\n |-- Covered_Recipient_Profile_Alternate_Suffix: string (nullable = true)\n |-- Covered_Recipient_Profile_Address_Line_1: string (nullable = true)\n |-- Covered_Recipient_Profile_Address_Line_2: string (nullable = true)\n |-- Covered_Recipient_Profile_City: string (nullable = true)\n |-- Covered_Recipient_Profile_State: string (nullable = true)\n |-- Covered_Recipient_Profile_Zipcode: string (nullable = true)\n |-- Covered_Recipient_Profile_Country_Name: string (nullable = true)\n |-- Covered_Recipient_Profile_Province_Name: string (nullable = true)\n |-- Covered_Recipient_Profile_Primary_Specialty: string (nullable = true)\n |-- Covered_Recipient_Profile_OPS_Taxonomy_1: string (nullable = true)\n |-- Covered_Recipient_Profile_OPS_Taxonomy_2: string (nullable = true)\n |-- Covered_Recipient_Profile_OPS_Taxonomy_3: string (nullable = true)\n |-- Covered_Recipient_Profile_OPS_Taxonomy_4: string (nullable = true)\n |-- Covered_Recipient_Profile_OPS_Taxonomy_5: string (nullable = true)\n |-- Covered_Recipient_Profile_OPS_Taxonomy_6: string (nullable = true)\n |-- Covered_Recipient_Profile_License_State_Code_1: string (nullable = true)\n |-- Covered_Recipient_Profile_License_State_Code_2: string (nullable = true)\n |-- Covered_Recipient_Profile_License_State_Code_3: string (nullable = true)\n |-- Covered_Recipient_Profile_License_State_Code_4: string (nullable = true)\n |-- Covered_Recipient_Profile_License_State_Code_5: string (nullable = true)\n\n"
     ]
    }
   ],
   "source": [
    "from pyspark.sql import SparkSession\n",
    "\n",
    "# Initializing Spark\n",
    "spark = SparkSession.builder.appName(\"CMS_OpenPayments\").getOrCreate()\n",
    "\n",
    "# Defining file path\n",
    "removed_deleted_path = \"dbfs:/FileStore/tables/OP_REMOVED_DELETED_PGYR2023_P01302025_01212025.csv\"\n",
    "ownership_path = \"dbfs:/FileStore/tables/OP_DTL_OWNRSHP_PGYR2023_P01302025_01212025.csv\"\n",
    "covered_recipient_path = \"dbfs:/FileStore/tables/OP_CVRD_RCPNT_PRFL_SPLMTL_P01302025_01212025-1.csv\"\n",
    "research_path = \"dbfs:/FileStore/tables/OP_DTL_RSRCH_PGYR2023_P01302025_01212025.csv\"\n",
    "\n",
    "# Reading CSV files into PySpark\n",
    "ownership_df = spark.read.csv(ownership_path, header=True, inferSchema=True)\n",
    "covered_recipient_df = spark.read.csv(covered_recipient_path, header=True, inferSchema=True)\n",
    "\n",
    "# Displaying first 5 rows of each dataset\n",
    "ownership_df.show(5)\n",
    "covered_recipient_df.show(5)\n",
    "\n",
    "# Print column names \n",
    "ownership_df.printSchema()\n",
    "covered_recipient_df.printSchema()"
   ]
  },
  {
   "cell_type": "markdown",
   "metadata": {
    "application/vnd.databricks.v1+cell": {
     "cellMetadata": {},
     "inputWidgets": {},
     "nuid": "529481a7-0ee6-4b8b-b422-3aa21d80c1d5",
     "showTitle": false,
     "tableResultSettingsMap": {},
     "title": ""
    }
   },
   "source": [
    "### 1. What is the Nature of Payments with reimbursement amounts greater than $1,000 ordered by count?"
   ]
  },
  {
   "cell_type": "code",
   "execution_count": 0,
   "metadata": {
    "application/vnd.databricks.v1+cell": {
     "cellMetadata": {
      "byteLimit": 2048000,
      "rowLimit": 10000
     },
     "inputWidgets": {},
     "nuid": "ad8748d9-9502-4b18-a0a8-1ed9fd5f9e5f",
     "showTitle": false,
     "tableResultSettingsMap": {},
     "title": ""
    }
   },
   "outputs": [
    {
     "output_type": "stream",
     "name": "stdout",
     "output_type": "stream",
     "text": [
      "+--------------------+-----+\n|   Terms_of_Interest|count|\n+--------------------+-----+\n| Membership Interest|  157|\n|        Common Stock|  111|\n|               Stock|   69|\n|1.) Value of inte...|   33|\n|              shares|   28|\n|Interest acquired...|   25|\n|ownership interes...|   23|\n|Common and prefer...|   23|\n|              Equity|   21|\n|Limited Liability...|   20|\n+--------------------+-----+\nonly showing top 10 rows\n\n"
     ]
    }
   ],
   "source": [
    "# Filter for records where the value of Total_Amount_Invested_USDollars > 1000\n",
    "filtered_ownership_df = ownership_df.filter(ownership_df.Total_Amount_Invested_USDollars > 1000)\n",
    "\n",
    "# Group by Nature of Payment and count\n",
    "nature_of_payment_count_df = filtered_ownership_df.groupBy(\"Terms_of_Interest\").count().orderBy(\"count\", ascending=False)\n",
    "\n",
    "# Print results\n",
    "nature_of_payment_count_df.show(10)\n"
   ]
  },
  {
   "cell_type": "markdown",
   "metadata": {
    "application/vnd.databricks.v1+cell": {
     "cellMetadata": {},
     "inputWidgets": {},
     "nuid": "a59ddbfd-7520-47b6-9aa3-4f29c6181c82",
     "showTitle": false,
     "tableResultSettingsMap": {},
     "title": ""
    }
   },
   "source": [
    "### 2. What are the top ten Nature of Payments by count?"
   ]
  },
  {
   "cell_type": "code",
   "execution_count": 0,
   "metadata": {
    "application/vnd.databricks.v1+cell": {
     "cellMetadata": {
      "byteLimit": 2048000,
      "rowLimit": 10000
     },
     "inputWidgets": {},
     "nuid": "bc2cdbd0-7064-4aef-9d1d-677c69099bc9",
     "showTitle": false,
     "tableResultSettingsMap": {},
     "title": ""
    }
   },
   "outputs": [
    {
     "output_type": "stream",
     "name": "stdout",
     "output_type": "stream",
     "text": [
      "+--------------------+-----+\n|   Terms_of_Interest|count|\n+--------------------+-----+\n|        Common Stock|  995|\n|Physician holds a...|  762|\n| Membership Interest|  227|\n|               Stock|  143|\n|          Investment|   90|\n|       Common Shares|   86|\n|Limited Liability...|   70|\n|                null|   63|\n|PROFIT INTEREST A...|   55|\n|Common/Preferred ...|   54|\n+--------------------+-----+\nonly showing top 10 rows\n\n"
     ]
    }
   ],
   "source": [
    "# Group by Nature of Payment and ordered by count\n",
    "nature_of_payment_count_top_10_df = ownership_df.groupBy(\"Terms_of_Interest\").count().orderBy(\"count\", ascending=False)\n",
    "\n",
    "# Print top 10 payments\n",
    "nature_of_payment_count_top_10_df.show(10)"
   ]
  },
  {
   "cell_type": "markdown",
   "metadata": {
    "application/vnd.databricks.v1+cell": {
     "cellMetadata": {},
     "inputWidgets": {},
     "nuid": "f80c04e9-681a-4682-a977-4555b990ba8d",
     "showTitle": false,
     "tableResultSettingsMap": {},
     "title": ""
    }
   },
   "source": [
    "### 3. What are the top ten Nature of Payments by total amount?"
   ]
  },
  {
   "cell_type": "code",
   "execution_count": 0,
   "metadata": {
    "application/vnd.databricks.v1+cell": {
     "cellMetadata": {
      "byteLimit": 2048000,
      "rowLimit": 10000
     },
     "inputWidgets": {},
     "nuid": "b3e7bda7-1d23-421d-86ec-70aff034693f",
     "showTitle": false,
     "tableResultSettingsMap": {},
     "title": ""
    }
   },
   "outputs": [
    {
     "output_type": "stream",
     "name": "stdout",
     "output_type": "stream",
     "text": [
      "+--------------------+------------------------------------+\n|   Terms_of_Interest|sum(Total_Amount_Invested_USDollars)|\n+--------------------+------------------------------------+\n|     Stock ownership|                      1.2468128362E8|\n|Preferred Stock L...|                           6930000.0|\n|               Stock|                   6053716.840000002|\n|              shares|                  5189054.8100000005|\n|Publicly held com...|                          4664013.29|\n|ownership interes...|                           3831660.0|\n|     SAFE investment|                           3605000.0|\n|   42.415% ownership|                          3580063.57|\n| Membership Interest|                   2703518.979999998|\n|The current inves...|                           2500000.0|\n+--------------------+------------------------------------+\nonly showing top 10 rows\n\n"
     ]
    }
   ],
   "source": [
    "# Group by Nature of Payment and sum the Total_Amount_Invested_USDollars\n",
    "nature_of_payment_total_amount_df = ownership_df.groupBy(\"Terms_of_Interest\").sum(\"Total_Amount_Invested_USDollars\").orderBy(\"sum(Total_Amount_Invested_USDollars)\", ascending=False)\n",
    "\n",
    "# Print top 10 \n",
    "nature_of_payment_total_amount_df.show(10)"
   ]
  },
  {
   "cell_type": "markdown",
   "metadata": {
    "application/vnd.databricks.v1+cell": {
     "cellMetadata": {},
     "inputWidgets": {},
     "nuid": "33681c81-2663-4a55-ab60-b89283af0c6c",
     "showTitle": false,
     "tableResultSettingsMap": {},
     "title": ""
    }
   },
   "source": [
    "### 4. What are the top ten physician specialties by total amount?"
   ]
  },
  {
   "cell_type": "code",
   "execution_count": 0,
   "metadata": {
    "application/vnd.databricks.v1+cell": {
     "cellMetadata": {
      "byteLimit": 2048000,
      "rowLimit": 10000
     },
     "inputWidgets": {},
     "nuid": "e4669b5f-a1a1-4a33-9b79-f3d60b11f655",
     "showTitle": false,
     "tableResultSettingsMap": {},
     "title": ""
    }
   },
   "outputs": [
    {
     "output_type": "stream",
     "name": "stdout",
     "output_type": "stream",
     "text": [
      "+--------------------+------------------------------------+\n| Physician_Specialty|sum(Total_Amount_Invested_USDollars)|\n+--------------------+------------------------------------+\n|Allopathic & Oste...|                1.2617592538000001E8|\n|Allopathic & Oste...|                 1.720776957999999E7|\n|Allopathic & Oste...|                   9215456.699999997|\n|Allopathic & Oste...|                  7833554.3999999985|\n|Allopathic & Oste...|                   7774635.429999999|\n|Allopathic & Oste...|                          5733256.29|\n|Allopathic & Oste...|                          4132615.42|\n|Dental Providers|...|                          3791925.97|\n|Dental Providers|...|                          3580273.57|\n|Allopathic & Oste...|                           2632503.0|\n+--------------------+------------------------------------+\nonly showing top 10 rows\n\n"
     ]
    }
   ],
   "source": [
    "# Group by Physician Specialty and sum the Total_Amount_Invested_USDollars\n",
    "physician_specialty_total_amount_df = ownership_df.groupBy(\"Physician_Specialty\").sum(\"Total_Amount_Invested_USDollars\").orderBy(\"sum(Total_Amount_Invested_USDollars)\", ascending=False)\n",
    "\n",
    "# Print top 10\n",
    "physician_specialty_total_amount_df.show(10)"
   ]
  },
  {
   "cell_type": "markdown",
   "metadata": {
    "application/vnd.databricks.v1+cell": {
     "cellMetadata": {},
     "inputWidgets": {},
     "nuid": "165da165-a95f-4d95-8359-0f7314b97bb5",
     "showTitle": false,
     "tableResultSettingsMap": {},
     "title": ""
    }
   },
   "source": [
    "### 5. Who are the top ten physicians by total amount?"
   ]
  },
  {
   "cell_type": "code",
   "execution_count": 0,
   "metadata": {
    "application/vnd.databricks.v1+cell": {
     "cellMetadata": {
      "byteLimit": 2048000,
      "rowLimit": 10000
     },
     "inputWidgets": {},
     "nuid": "6040303e-2129-4c19-9231-dc5b366ae1d8",
     "showTitle": false,
     "tableResultSettingsMap": {},
     "title": ""
    }
   },
   "outputs": [
    {
     "output_type": "stream",
     "name": "stdout",
     "output_type": "stream",
     "text": [
      "+-------------+--------------------+-------------------+--------------------+------------------------------------+\n|Physician_NPI|Physician_First_Name|Physician_Last_Name| Physician_Specialty|sum(Total_Amount_Invested_USDollars)|\n+-------------+--------------------+-------------------+--------------------+------------------------------------+\n|   1720029465|             William|             Melton|Allopathic & Oste...|                              400.35|\n|   1720038334|           Elizabeth|             Forbes|Allopathic & Oste...|                                 0.0|\n|   1336161561|               Cindy|              Tobin|Allopathic & Oste...|                                 0.0|\n|   1720052103|             Eduardo|           Marichal|Allopathic & Oste...|                                 0.0|\n|   1275588246|               Frank|            Cammisa|Allopathic & Oste...|                                 0.0|\n|   1548349566|              Robert|          Strathman|Allopathic & Oste...|                                 0.0|\n|   1902822638|            LAWRENCE|             LYKINS|Allopathic & Oste...|                                 0.0|\n|   1750495099|                ERIK|            THYSSEN|Allopathic & Oste...|                             5709.14|\n|   1952690257|              Edward|            Shields|Allopathic & Oste...|                                 0.0|\n|   1255329009|                MARK|                YAP|Allopathic & Oste...|                                8.01|\n+-------------+--------------------+-------------------+--------------------+------------------------------------+\nonly showing top 10 rows\n\n"
     ]
    }
   ],
   "source": [
    "# Group by Physician NPI and sum the Total_Amount_Invested_USDollars\n",
    "physician_total_amount_df = ownership_df.groupBy(\"Physician_NPI\").sum(\"Total_Amount_Invested_USDollars\").orderBy(\"sum(Total_Amount_Invested_USDollars)\", ascending=False)\n",
    "\n",
    "# Print top 10\n",
    "physician_details_df.show(10)"
   ]
  }
 ],
 "metadata": {
  "application/vnd.databricks.v1+notebook": {
   "computePreferences": null,
   "dashboards": [],
   "environmentMetadata": {
    "base_environment": "",
    "client": "1"
   },
   "language": "python",
   "notebookMetadata": {
    "pythonIndentUnit": 4
   },
   "notebookName": "Week 07 - Spark Application",
   "widgets": {}
  }
 },
 "nbformat": 4,
 "nbformat_minor": 0
}
